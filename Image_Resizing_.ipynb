{
  "cells": [
    {
      "cell_type": "code",
      "execution_count": null,
      "metadata": {
        "id": "Ubo9bCZKooBZ"
      },
      "outputs": [],
      "source": [
        "from PIL import Image, ImageOps\n",
        "import os\n"
      ]
    },
    {
      "cell_type": "code",
      "execution_count": null,
      "metadata": {
        "colab": {
          "base_uri": "https://localhost:8080/"
        },
        "id": "QfLNK2lwpSAa",
        "outputId": "69efcdf7-9840-41e6-d386-e92bb17e9a8c"
      },
      "outputs": [
        {
          "name": "stdout",
          "output_type": "stream",
          "text": [
            "(347, 200)\n"
          ]
        }
      ],
      "source": [
        "image=Image.open('/content/drive/MyDrive/test3/Copy of animal-drawing-print-jaguar-skin-pattern-260nw-1972673294.jpg')\n",
        "print(image.size)"
      ]
    },
    {
      "cell_type": "code",
      "execution_count": null,
      "metadata": {
        "colab": {
          "base_uri": "https://localhost:8080/"
        },
        "id": "dmI-8hB2OQ1W",
        "outputId": "b1939eca-4827-484b-afd9-4705f2695c88"
      },
      "outputs": [
        {
          "output_type": "stream",
          "name": "stdout",
          "text": [
            "Drive already mounted at /content/drive; to attempt to forcibly remount, call drive.mount(\"/content/drive\", force_remount=True).\n"
          ]
        }
      ],
      "source": [
        "from google.colab import drive\n",
        "drive.mount('/content/drive')"
      ]
    },
    {
      "cell_type": "code",
      "execution_count": null,
      "metadata": {
        "id": "dWBIBavspu8x"
      },
      "outputs": [],
      "source": [
        "path='/content/drive/MyDrive/AdobeStock-256x256'"
      ]
    },
    {
      "cell_type": "code",
      "execution_count": null,
      "metadata": {
        "id": "iJkBWwC4rX1s"
      },
      "outputs": [],
      "source": [
        "os.chdir('/content/drive/MyDrive/cropped-64x64')"
      ]
    },
    {
      "cell_type": "code",
      "execution_count": null,
      "metadata": {
        "id": "iDlSfKxKo1gN"
      },
      "outputs": [],
      "source": [
        "images = [file for file in os.listdir(path) if file.endswith(('jpeg', 'jpg','png'))]\n",
        "for filename in images:\n",
        "    img = Image.open(os.path.join(path, filename))\n",
        "    img = img.resize((64,64))\n",
        "    img.save(filename)"
      ]
    },
    {
      "cell_type": "code",
      "execution_count": null,
      "metadata": {
        "id": "-eMDC19du-f3"
      },
      "outputs": [],
      "source": [
        "path='/content/drive/MyDrive/AdobeStock3'\n",
        "os.chdir('/content/drive/MyDrive/AdobeStock-cropped-128x128')"
      ]
    },
    {
      "cell_type": "code",
      "execution_count": null,
      "metadata": {
        "id": "vabG04B6wWFL"
      },
      "outputs": [],
      "source": [
        "height=128\n",
        "width=128"
      ]
    },
    {
      "cell_type": "code",
      "execution_count": null,
      "metadata": {
        "id": "oDT0Rwuev25N"
      },
      "outputs": [],
      "source": [
        "images = [file for file in os.listdir(path) if file.endswith(('jpeg', 'jpg'))]\n",
        "for filename in images:\n",
        "  thumbnail=Image.open(os.path.join(path, filename))\n",
        "  thumbnail = ImageOps.fit(thumbnail,(height, width),Image.ANTIALIAS)\n",
        "  thumbnail.save(filename)"
      ]
    }
  ],
  "metadata": {
    "colab": {
      "name": "Image Resizing .ipynb",
      "provenance": []
    },
    "kernelspec": {
      "display_name": "Python 3",
      "name": "python3"
    },
    "language_info": {
      "name": "python"
    }
  },
  "nbformat": 4,
  "nbformat_minor": 0
}